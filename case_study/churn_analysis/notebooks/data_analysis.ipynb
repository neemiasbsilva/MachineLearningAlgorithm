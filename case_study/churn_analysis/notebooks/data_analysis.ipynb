{
  "nbformat": 4,
  "nbformat_minor": 0,
  "metadata": {
    "colab": {
      "name": "data_analysis.ipynb",
      "private_outputs": true,
      "provenance": [],
      "toc_visible": true,
      "mount_file_id": "1hP6SctP-uZdOdWuUlr6t2dsLjai7jm8y",
      "authorship_tag": "ABX9TyOHKHkjL2hDsax8+wfib+qj"
    },
    "kernelspec": {
      "name": "python3",
      "display_name": "Python 3"
    },
    "language_info": {
      "name": "python"
    }
  },
  "cells": [
    {
      "cell_type": "markdown",
      "source": [
        "# Setup & Import Libraries"
      ],
      "metadata": {
        "id": "k9E14bPl9NPm"
      }
    },
    {
      "cell_type": "code",
      "execution_count": null,
      "metadata": {
        "id": "jTXpYs4F9B4B"
      },
      "outputs": [],
      "source": [
        "import os\n",
        "import pandas as pd\n",
        "import numpy as np\n",
        "\n",
        "import seaborn as sns\n",
        "import matplotlib.pyplot as plt\n",
        "\n",
        "%matplotlib inline"
      ]
    },
    {
      "cell_type": "code",
      "source": [
        "os.chdir(\"/content/drive/MyDrive/datascience_projects/customer_churn_analysis\")\n",
        "%ls"
      ],
      "metadata": {
        "id": "JD0ZOg-W9eUk"
      },
      "execution_count": null,
      "outputs": []
    },
    {
      "cell_type": "markdown",
      "source": [
        "# Load Churn Dataset"
      ],
      "metadata": {
        "id": "2O9_gBoL93kj"
      }
    },
    {
      "cell_type": "code",
      "source": [
        "df = pd.read_csv(\"data/data.csv\", index_col=\"RowNumber\")\n",
        "\n",
        "df.head()"
      ],
      "metadata": {
        "id": "Mum-sph_910I"
      },
      "execution_count": null,
      "outputs": []
    },
    {
      "cell_type": "markdown",
      "source": [
        "# Exploratory Data Analysis - EDA"
      ],
      "metadata": {
        "id": "8AhFuwC0-PGT"
      }
    },
    {
      "cell_type": "code",
      "source": [
        "print(f\"Amout of samples: {len(df)}\")"
      ],
      "metadata": {
        "id": "atSAM2zd99Y1"
      },
      "execution_count": null,
      "outputs": []
    },
    {
      "cell_type": "code",
      "source": [
        "df.describe()"
      ],
      "metadata": {
        "id": "WVDc_1YC-Jso"
      },
      "execution_count": null,
      "outputs": []
    },
    {
      "cell_type": "code",
      "source": [
        "df.info()"
      ],
      "metadata": {
        "id": "6AKG0LB3-T-7"
      },
      "execution_count": null,
      "outputs": []
    },
    {
      "cell_type": "code",
      "source": [
        "df.isnull().sum()"
      ],
      "metadata": {
        "id": "z_rdbs9H_7r2"
      },
      "execution_count": null,
      "outputs": []
    },
    {
      "cell_type": "code",
      "source": [
        "sns.heatmap(df.isnull(), yticklabels=False, cmap=\"viridis\")\n",
        "plt.show()"
      ],
      "metadata": {
        "id": "ZcR8Xg9WAx7V"
      },
      "execution_count": null,
      "outputs": []
    }
  ]
}