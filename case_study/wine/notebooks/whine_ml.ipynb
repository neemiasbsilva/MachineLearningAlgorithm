{
  "nbformat": 4,
  "nbformat_minor": 0,
  "metadata": {
    "anaconda-cloud": {},
    "kernelspec": {
      "display_name": "Python 3",
      "language": "python",
      "name": "python3"
    },
    "language_info": {
      "codemirror_mode": {
        "name": "ipython",
        "version": 3
      },
      "file_extension": ".py",
      "mimetype": "text/x-python",
      "name": "python",
      "nbconvert_exporter": "python",
      "pygments_lexer": "ipython3",
      "version": "3.6.5"
    },
    "toc": {
      "nav_menu": {},
      "number_sections": true,
      "sideBar": true,
      "skip_h1_title": false,
      "title_cell": "Table of Contents",
      "title_sidebar": "Contents",
      "toc_cell": false,
      "toc_position": {},
      "toc_section_display": true,
      "toc_window_display": false
    },
    "colab": {
      "provenance": []
    }
  },
  "cells": [
    {
      "cell_type": "markdown",
      "metadata": {
        "id": "SqD5nXq2xSD7"
      },
      "source": [
        "## **Ex.1 - Loading the dataset**"
      ]
    },
    {
      "cell_type": "code",
      "metadata": {
        "id": "7f-5h4IHxSD7",
        "outputId": "62307449-8115-40f9-f866-de81770ec2c7",
        "colab": {
          "base_uri": "https://localhost:8080/",
          "height": 206
        }
      },
      "source": [
        "import pandas as pd\n",
        "\n",
        "df_wine = pd.read_csv('https://archive.ics.uci.edu/ml/'\n",
        "                      'machine-learning-databases/wine/wine.data',\n",
        "                      header=None)\n",
        "\n",
        "# if the Wine dataset is temporarily unavailable from the\n",
        "# UCI machine learning repository, un-comment the following line\n",
        "# of code to load the dataset from a local path:\n",
        "\n",
        "# df_wine = pd.read_csv('wine.data', header=None)\n",
        "\n",
        "df_wine.columns = ['Class label', 'Alcohol', 'Malic acid', 'Ash',\n",
        "                   'Alcalinity of ash', 'Magnesium', 'Total phenols',\n",
        "                   'Flavanoids', 'Nonflavanoid phenols', 'Proanthocyanins',\n",
        "                   'Color intensity', 'Hue',\n",
        "                   'OD280/OD315 of diluted wines', 'Proline']\n",
        "\n",
        "df_wine.head()"
      ],
      "execution_count": 1,
      "outputs": [
        {
          "output_type": "execute_result",
          "data": {
            "text/plain": [
              "   Class label  Alcohol  Malic acid   Ash  Alcalinity of ash  Magnesium  \\\n",
              "0            1    14.23        1.71  2.43               15.6        127   \n",
              "1            1    13.20        1.78  2.14               11.2        100   \n",
              "2            1    13.16        2.36  2.67               18.6        101   \n",
              "3            1    14.37        1.95  2.50               16.8        113   \n",
              "4            1    13.24        2.59  2.87               21.0        118   \n",
              "\n",
              "   Total phenols  Flavanoids  Nonflavanoid phenols  Proanthocyanins  \\\n",
              "0           2.80        3.06                  0.28             2.29   \n",
              "1           2.65        2.76                  0.26             1.28   \n",
              "2           2.80        3.24                  0.30             2.81   \n",
              "3           3.85        3.49                  0.24             2.18   \n",
              "4           2.80        2.69                  0.39             1.82   \n",
              "\n",
              "   Color intensity   Hue  OD280/OD315 of diluted wines  Proline  \n",
              "0             5.64  1.04                          3.92     1065  \n",
              "1             4.38  1.05                          3.40     1050  \n",
              "2             5.68  1.03                          3.17     1185  \n",
              "3             7.80  0.86                          3.45     1480  \n",
              "4             4.32  1.04                          2.93      735  "
            ],
            "text/html": [
              "\n",
              "  <div id=\"df-c69e9ccc-20c7-4353-9411-c6b5034a5c4a\">\n",
              "    <div class=\"colab-df-container\">\n",
              "      <div>\n",
              "<style scoped>\n",
              "    .dataframe tbody tr th:only-of-type {\n",
              "        vertical-align: middle;\n",
              "    }\n",
              "\n",
              "    .dataframe tbody tr th {\n",
              "        vertical-align: top;\n",
              "    }\n",
              "\n",
              "    .dataframe thead th {\n",
              "        text-align: right;\n",
              "    }\n",
              "</style>\n",
              "<table border=\"1\" class=\"dataframe\">\n",
              "  <thead>\n",
              "    <tr style=\"text-align: right;\">\n",
              "      <th></th>\n",
              "      <th>Class label</th>\n",
              "      <th>Alcohol</th>\n",
              "      <th>Malic acid</th>\n",
              "      <th>Ash</th>\n",
              "      <th>Alcalinity of ash</th>\n",
              "      <th>Magnesium</th>\n",
              "      <th>Total phenols</th>\n",
              "      <th>Flavanoids</th>\n",
              "      <th>Nonflavanoid phenols</th>\n",
              "      <th>Proanthocyanins</th>\n",
              "      <th>Color intensity</th>\n",
              "      <th>Hue</th>\n",
              "      <th>OD280/OD315 of diluted wines</th>\n",
              "      <th>Proline</th>\n",
              "    </tr>\n",
              "  </thead>\n",
              "  <tbody>\n",
              "    <tr>\n",
              "      <th>0</th>\n",
              "      <td>1</td>\n",
              "      <td>14.23</td>\n",
              "      <td>1.71</td>\n",
              "      <td>2.43</td>\n",
              "      <td>15.6</td>\n",
              "      <td>127</td>\n",
              "      <td>2.80</td>\n",
              "      <td>3.06</td>\n",
              "      <td>0.28</td>\n",
              "      <td>2.29</td>\n",
              "      <td>5.64</td>\n",
              "      <td>1.04</td>\n",
              "      <td>3.92</td>\n",
              "      <td>1065</td>\n",
              "    </tr>\n",
              "    <tr>\n",
              "      <th>1</th>\n",
              "      <td>1</td>\n",
              "      <td>13.20</td>\n",
              "      <td>1.78</td>\n",
              "      <td>2.14</td>\n",
              "      <td>11.2</td>\n",
              "      <td>100</td>\n",
              "      <td>2.65</td>\n",
              "      <td>2.76</td>\n",
              "      <td>0.26</td>\n",
              "      <td>1.28</td>\n",
              "      <td>4.38</td>\n",
              "      <td>1.05</td>\n",
              "      <td>3.40</td>\n",
              "      <td>1050</td>\n",
              "    </tr>\n",
              "    <tr>\n",
              "      <th>2</th>\n",
              "      <td>1</td>\n",
              "      <td>13.16</td>\n",
              "      <td>2.36</td>\n",
              "      <td>2.67</td>\n",
              "      <td>18.6</td>\n",
              "      <td>101</td>\n",
              "      <td>2.80</td>\n",
              "      <td>3.24</td>\n",
              "      <td>0.30</td>\n",
              "      <td>2.81</td>\n",
              "      <td>5.68</td>\n",
              "      <td>1.03</td>\n",
              "      <td>3.17</td>\n",
              "      <td>1185</td>\n",
              "    </tr>\n",
              "    <tr>\n",
              "      <th>3</th>\n",
              "      <td>1</td>\n",
              "      <td>14.37</td>\n",
              "      <td>1.95</td>\n",
              "      <td>2.50</td>\n",
              "      <td>16.8</td>\n",
              "      <td>113</td>\n",
              "      <td>3.85</td>\n",
              "      <td>3.49</td>\n",
              "      <td>0.24</td>\n",
              "      <td>2.18</td>\n",
              "      <td>7.80</td>\n",
              "      <td>0.86</td>\n",
              "      <td>3.45</td>\n",
              "      <td>1480</td>\n",
              "    </tr>\n",
              "    <tr>\n",
              "      <th>4</th>\n",
              "      <td>1</td>\n",
              "      <td>13.24</td>\n",
              "      <td>2.59</td>\n",
              "      <td>2.87</td>\n",
              "      <td>21.0</td>\n",
              "      <td>118</td>\n",
              "      <td>2.80</td>\n",
              "      <td>2.69</td>\n",
              "      <td>0.39</td>\n",
              "      <td>1.82</td>\n",
              "      <td>4.32</td>\n",
              "      <td>1.04</td>\n",
              "      <td>2.93</td>\n",
              "      <td>735</td>\n",
              "    </tr>\n",
              "  </tbody>\n",
              "</table>\n",
              "</div>\n",
              "      <button class=\"colab-df-convert\" onclick=\"convertToInteractive('df-c69e9ccc-20c7-4353-9411-c6b5034a5c4a')\"\n",
              "              title=\"Convert this dataframe to an interactive table.\"\n",
              "              style=\"display:none;\">\n",
              "        \n",
              "  <svg xmlns=\"http://www.w3.org/2000/svg\" height=\"24px\"viewBox=\"0 0 24 24\"\n",
              "       width=\"24px\">\n",
              "    <path d=\"M0 0h24v24H0V0z\" fill=\"none\"/>\n",
              "    <path d=\"M18.56 5.44l.94 2.06.94-2.06 2.06-.94-2.06-.94-.94-2.06-.94 2.06-2.06.94zm-11 1L8.5 8.5l.94-2.06 2.06-.94-2.06-.94L8.5 2.5l-.94 2.06-2.06.94zm10 10l.94 2.06.94-2.06 2.06-.94-2.06-.94-.94-2.06-.94 2.06-2.06.94z\"/><path d=\"M17.41 7.96l-1.37-1.37c-.4-.4-.92-.59-1.43-.59-.52 0-1.04.2-1.43.59L10.3 9.45l-7.72 7.72c-.78.78-.78 2.05 0 2.83L4 21.41c.39.39.9.59 1.41.59.51 0 1.02-.2 1.41-.59l7.78-7.78 2.81-2.81c.8-.78.8-2.07 0-2.86zM5.41 20L4 18.59l7.72-7.72 1.47 1.35L5.41 20z\"/>\n",
              "  </svg>\n",
              "      </button>\n",
              "      \n",
              "  <style>\n",
              "    .colab-df-container {\n",
              "      display:flex;\n",
              "      flex-wrap:wrap;\n",
              "      gap: 12px;\n",
              "    }\n",
              "\n",
              "    .colab-df-convert {\n",
              "      background-color: #E8F0FE;\n",
              "      border: none;\n",
              "      border-radius: 50%;\n",
              "      cursor: pointer;\n",
              "      display: none;\n",
              "      fill: #1967D2;\n",
              "      height: 32px;\n",
              "      padding: 0 0 0 0;\n",
              "      width: 32px;\n",
              "    }\n",
              "\n",
              "    .colab-df-convert:hover {\n",
              "      background-color: #E2EBFA;\n",
              "      box-shadow: 0px 1px 2px rgba(60, 64, 67, 0.3), 0px 1px 3px 1px rgba(60, 64, 67, 0.15);\n",
              "      fill: #174EA6;\n",
              "    }\n",
              "\n",
              "    [theme=dark] .colab-df-convert {\n",
              "      background-color: #3B4455;\n",
              "      fill: #D2E3FC;\n",
              "    }\n",
              "\n",
              "    [theme=dark] .colab-df-convert:hover {\n",
              "      background-color: #434B5C;\n",
              "      box-shadow: 0px 1px 3px 1px rgba(0, 0, 0, 0.15);\n",
              "      filter: drop-shadow(0px 1px 2px rgba(0, 0, 0, 0.3));\n",
              "      fill: #FFFFFF;\n",
              "    }\n",
              "  </style>\n",
              "\n",
              "      <script>\n",
              "        const buttonEl =\n",
              "          document.querySelector('#df-c69e9ccc-20c7-4353-9411-c6b5034a5c4a button.colab-df-convert');\n",
              "        buttonEl.style.display =\n",
              "          google.colab.kernel.accessAllowed ? 'block' : 'none';\n",
              "\n",
              "        async function convertToInteractive(key) {\n",
              "          const element = document.querySelector('#df-c69e9ccc-20c7-4353-9411-c6b5034a5c4a');\n",
              "          const dataTable =\n",
              "            await google.colab.kernel.invokeFunction('convertToInteractive',\n",
              "                                                     [key], {});\n",
              "          if (!dataTable) return;\n",
              "\n",
              "          const docLinkHtml = 'Like what you see? Visit the ' +\n",
              "            '<a target=\"_blank\" href=https://colab.research.google.com/notebooks/data_table.ipynb>data table notebook</a>'\n",
              "            + ' to learn more about interactive tables.';\n",
              "          element.innerHTML = '';\n",
              "          dataTable['output_type'] = 'display_data';\n",
              "          await google.colab.output.renderOutput(dataTable, element);\n",
              "          const docLink = document.createElement('div');\n",
              "          docLink.innerHTML = docLinkHtml;\n",
              "          element.appendChild(docLink);\n",
              "        }\n",
              "      </script>\n",
              "    </div>\n",
              "  </div>\n",
              "  "
            ]
          },
          "metadata": {},
          "execution_count": 1
        }
      ]
    },
    {
      "cell_type": "markdown",
      "metadata": {
        "id": "iI_uWSSJxSD7"
      },
      "source": [
        "<hr>"
      ]
    },
    {
      "cell_type": "markdown",
      "metadata": {
        "id": "tXblgvroxSD8"
      },
      "source": [
        "Splitting the data into 70% training and 30% test subsets."
      ]
    },
    {
      "cell_type": "code",
      "metadata": {
        "id": "MmmOK4QLxSD8"
      },
      "source": [
        "from sklearn.model_selection import train_test_split\n",
        "import numpy as np\n",
        "\n",
        "X, y = df_wine.iloc[:, 1:].values, df_wine.iloc[:, 0].values\n",
        "\n",
        "X_train, X_test, y_train, y_test = \\\n",
        "    train_test_split(X, y, test_size=0.3, \n",
        "                     stratify=y,\n",
        "                     random_state=0)"
      ],
      "execution_count": 12,
      "outputs": []
    },
    {
      "cell_type": "code",
      "source": [
        "print(f\"Samples: {len(X)}, Number of features: {X.shape[1]}\")"
      ],
      "metadata": {
        "colab": {
          "base_uri": "https://localhost:8080/"
        },
        "id": "c9Dr0WP1cjSt",
        "outputId": "b4f890a7-205b-4f17-9375-a7b77dd44f14"
      },
      "execution_count": 4,
      "outputs": [
        {
          "output_type": "stream",
          "name": "stdout",
          "text": [
            "Samples: 178, Number of features: 13\n"
          ]
        }
      ]
    },
    {
      "cell_type": "code",
      "source": [
        "np.unique(y)"
      ],
      "metadata": {
        "colab": {
          "base_uri": "https://localhost:8080/"
        },
        "id": "c7xGCBnieJYd",
        "outputId": "cba6fba2-e928-4555-cf19-e17f4e30e708"
      },
      "execution_count": 13,
      "outputs": [
        {
          "output_type": "execute_result",
          "data": {
            "text/plain": [
              "array([1, 2, 3])"
            ]
          },
          "metadata": {},
          "execution_count": 13
        }
      ]
    },
    {
      "cell_type": "markdown",
      "metadata": {
        "id": "H74u_bldxSD8"
      },
      "source": [
        "Standardizing the data."
      ]
    },
    {
      "cell_type": "code",
      "metadata": {
        "id": "edUSns7nxSD8"
      },
      "source": [
        "from sklearn.preprocessing import StandardScaler\n",
        "\n",
        "sc = StandardScaler()\n",
        "X_train_std = sc.fit_transform(X_train)\n",
        "X_test_std = sc.transform(X_test)"
      ],
      "execution_count": 3,
      "outputs": []
    },
    {
      "cell_type": "markdown",
      "metadata": {
        "id": "ea4rulLPxSEB"
      },
      "source": [
        "## **Ex.2 - Principal component analysis in scikit-learn**"
      ]
    },
    {
      "cell_type": "markdown",
      "metadata": {
        "id": "Z8n_rjAQ1N3k"
      },
      "source": [
        "### Part 1 - *Perform PCA and present the explained variance ratio* (check https://scikit-learn.org/stable/modules/generated/sklearn.decomposition.PCA.html). Perform the transformation on test data and plot the first two principal components."
      ]
    },
    {
      "cell_type": "code",
      "source": [
        "from sklearn.decomposition import PCA\n",
        "\n",
        "pca = PCA(n_components=5)\n",
        "principal_components = pca.fit_transform(X_train)\n",
        "principal_df = pd.DataFrame(data=principal_components, columns=[\"PC_1\", \"PC_2\", \"PC_3\",\n",
        "                                                                \"PC_4\", \"PC_5\"])\n",
        "principal_df.head()"
      ],
      "metadata": {
        "colab": {
          "base_uri": "https://localhost:8080/",
          "height": 206
        },
        "id": "HZWXXVVAbr20",
        "outputId": "3a04cc09-e3bf-4580-db2e-d5f41091b8b2"
      },
      "execution_count": 5,
      "outputs": [
        {
          "output_type": "execute_result",
          "data": {
            "text/plain": [
              "         PC_1       PC_2      PC_3      PC_4      PC_5\n",
              "0 -204.920105  -3.443518 -0.342527  0.779685 -2.544203\n",
              "1  480.687988  24.330171  0.896074 -1.329780 -0.129057\n",
              "2  530.110841  -7.416111  5.233479 -1.517959  0.730806\n",
              "3  340.316339   4.805879  0.373374 -1.722945 -0.498207\n",
              "4  -59.897329  -4.035593 -0.966466  2.768124 -0.532074"
            ],
            "text/html": [
              "\n",
              "  <div id=\"df-82be3ee2-11aa-4c93-bcab-a58261263ff6\">\n",
              "    <div class=\"colab-df-container\">\n",
              "      <div>\n",
              "<style scoped>\n",
              "    .dataframe tbody tr th:only-of-type {\n",
              "        vertical-align: middle;\n",
              "    }\n",
              "\n",
              "    .dataframe tbody tr th {\n",
              "        vertical-align: top;\n",
              "    }\n",
              "\n",
              "    .dataframe thead th {\n",
              "        text-align: right;\n",
              "    }\n",
              "</style>\n",
              "<table border=\"1\" class=\"dataframe\">\n",
              "  <thead>\n",
              "    <tr style=\"text-align: right;\">\n",
              "      <th></th>\n",
              "      <th>PC_1</th>\n",
              "      <th>PC_2</th>\n",
              "      <th>PC_3</th>\n",
              "      <th>PC_4</th>\n",
              "      <th>PC_5</th>\n",
              "    </tr>\n",
              "  </thead>\n",
              "  <tbody>\n",
              "    <tr>\n",
              "      <th>0</th>\n",
              "      <td>-204.920105</td>\n",
              "      <td>-3.443518</td>\n",
              "      <td>-0.342527</td>\n",
              "      <td>0.779685</td>\n",
              "      <td>-2.544203</td>\n",
              "    </tr>\n",
              "    <tr>\n",
              "      <th>1</th>\n",
              "      <td>480.687988</td>\n",
              "      <td>24.330171</td>\n",
              "      <td>0.896074</td>\n",
              "      <td>-1.329780</td>\n",
              "      <td>-0.129057</td>\n",
              "    </tr>\n",
              "    <tr>\n",
              "      <th>2</th>\n",
              "      <td>530.110841</td>\n",
              "      <td>-7.416111</td>\n",
              "      <td>5.233479</td>\n",
              "      <td>-1.517959</td>\n",
              "      <td>0.730806</td>\n",
              "    </tr>\n",
              "    <tr>\n",
              "      <th>3</th>\n",
              "      <td>340.316339</td>\n",
              "      <td>4.805879</td>\n",
              "      <td>0.373374</td>\n",
              "      <td>-1.722945</td>\n",
              "      <td>-0.498207</td>\n",
              "    </tr>\n",
              "    <tr>\n",
              "      <th>4</th>\n",
              "      <td>-59.897329</td>\n",
              "      <td>-4.035593</td>\n",
              "      <td>-0.966466</td>\n",
              "      <td>2.768124</td>\n",
              "      <td>-0.532074</td>\n",
              "    </tr>\n",
              "  </tbody>\n",
              "</table>\n",
              "</div>\n",
              "      <button class=\"colab-df-convert\" onclick=\"convertToInteractive('df-82be3ee2-11aa-4c93-bcab-a58261263ff6')\"\n",
              "              title=\"Convert this dataframe to an interactive table.\"\n",
              "              style=\"display:none;\">\n",
              "        \n",
              "  <svg xmlns=\"http://www.w3.org/2000/svg\" height=\"24px\"viewBox=\"0 0 24 24\"\n",
              "       width=\"24px\">\n",
              "    <path d=\"M0 0h24v24H0V0z\" fill=\"none\"/>\n",
              "    <path d=\"M18.56 5.44l.94 2.06.94-2.06 2.06-.94-2.06-.94-.94-2.06-.94 2.06-2.06.94zm-11 1L8.5 8.5l.94-2.06 2.06-.94-2.06-.94L8.5 2.5l-.94 2.06-2.06.94zm10 10l.94 2.06.94-2.06 2.06-.94-2.06-.94-.94-2.06-.94 2.06-2.06.94z\"/><path d=\"M17.41 7.96l-1.37-1.37c-.4-.4-.92-.59-1.43-.59-.52 0-1.04.2-1.43.59L10.3 9.45l-7.72 7.72c-.78.78-.78 2.05 0 2.83L4 21.41c.39.39.9.59 1.41.59.51 0 1.02-.2 1.41-.59l7.78-7.78 2.81-2.81c.8-.78.8-2.07 0-2.86zM5.41 20L4 18.59l7.72-7.72 1.47 1.35L5.41 20z\"/>\n",
              "  </svg>\n",
              "      </button>\n",
              "      \n",
              "  <style>\n",
              "    .colab-df-container {\n",
              "      display:flex;\n",
              "      flex-wrap:wrap;\n",
              "      gap: 12px;\n",
              "    }\n",
              "\n",
              "    .colab-df-convert {\n",
              "      background-color: #E8F0FE;\n",
              "      border: none;\n",
              "      border-radius: 50%;\n",
              "      cursor: pointer;\n",
              "      display: none;\n",
              "      fill: #1967D2;\n",
              "      height: 32px;\n",
              "      padding: 0 0 0 0;\n",
              "      width: 32px;\n",
              "    }\n",
              "\n",
              "    .colab-df-convert:hover {\n",
              "      background-color: #E2EBFA;\n",
              "      box-shadow: 0px 1px 2px rgba(60, 64, 67, 0.3), 0px 1px 3px 1px rgba(60, 64, 67, 0.15);\n",
              "      fill: #174EA6;\n",
              "    }\n",
              "\n",
              "    [theme=dark] .colab-df-convert {\n",
              "      background-color: #3B4455;\n",
              "      fill: #D2E3FC;\n",
              "    }\n",
              "\n",
              "    [theme=dark] .colab-df-convert:hover {\n",
              "      background-color: #434B5C;\n",
              "      box-shadow: 0px 1px 3px 1px rgba(0, 0, 0, 0.15);\n",
              "      filter: drop-shadow(0px 1px 2px rgba(0, 0, 0, 0.3));\n",
              "      fill: #FFFFFF;\n",
              "    }\n",
              "  </style>\n",
              "\n",
              "      <script>\n",
              "        const buttonEl =\n",
              "          document.querySelector('#df-82be3ee2-11aa-4c93-bcab-a58261263ff6 button.colab-df-convert');\n",
              "        buttonEl.style.display =\n",
              "          google.colab.kernel.accessAllowed ? 'block' : 'none';\n",
              "\n",
              "        async function convertToInteractive(key) {\n",
              "          const element = document.querySelector('#df-82be3ee2-11aa-4c93-bcab-a58261263ff6');\n",
              "          const dataTable =\n",
              "            await google.colab.kernel.invokeFunction('convertToInteractive',\n",
              "                                                     [key], {});\n",
              "          if (!dataTable) return;\n",
              "\n",
              "          const docLinkHtml = 'Like what you see? Visit the ' +\n",
              "            '<a target=\"_blank\" href=https://colab.research.google.com/notebooks/data_table.ipynb>data table notebook</a>'\n",
              "            + ' to learn more about interactive tables.';\n",
              "          element.innerHTML = '';\n",
              "          dataTable['output_type'] = 'display_data';\n",
              "          await google.colab.output.renderOutput(dataTable, element);\n",
              "          const docLink = document.createElement('div');\n",
              "          docLink.innerHTML = docLinkHtml;\n",
              "          element.appendChild(docLink);\n",
              "        }\n",
              "      </script>\n",
              "    </div>\n",
              "  </div>\n",
              "  "
            ]
          },
          "metadata": {},
          "execution_count": 5
        }
      ]
    },
    {
      "cell_type": "code",
      "source": [
        "import matplotlib.pyplot as plt\n",
        "import numpy as np\n",
        "\n",
        "def plot_elbow_rule():\n",
        "    PC_values = np.arange(pca.n_components_) + 1\n",
        "    plt.plot(PC_values, pca.explained_variance_ratio_, \"bo-\", linewidth=2, color=\"purple\")\n",
        "    plt.title(\"Analyze Elbow Rule for PCA\")\n",
        "    plt.xlabel(\"Principal Components\")\n",
        "    plt.ylabel(\"Variation Percentage - PV\")\n",
        "    plt.show()\n",
        "\n",
        "plot_elbow_rule()"
      ],
      "metadata": {
        "colab": {
          "base_uri": "https://localhost:8080/",
          "height": 295
        },
        "id": "XhW2jpqRc4IJ",
        "outputId": "b0e6cc38-2a8f-428b-82da-56de3e27f752"
      },
      "execution_count": 8,
      "outputs": [
        {
          "output_type": "display_data",
          "data": {
            "text/plain": [
              "<Figure size 432x288 with 1 Axes>"
            ],
            "image/png": "[encoded data removed]"
          },
          "metadata": {
            "needs_background": "light"
          }
        }
      ]
    },
    {
      "cell_type": "code",
      "source": [
        "pca = PCA(n_components=2)\n",
        "\n",
        "X_train_pca = pca.fit_transform(X_train_std)\n",
        "X_test_pca = pca.transform(X_test_std)"
      ],
      "metadata": {
        "id": "h6V-8mnjdNyu"
      },
      "execution_count": 33,
      "outputs": []
    },
    {
      "cell_type": "code",
      "source": [
        "plot = plt.scatter(X_train_pca[:,0], X_train_pca[:,1], c=y_train)\n",
        "plt.legend(handles=plot.legend_elements()[0], labels=[\"class_1\", \"class_2\", \"class_3\"])\n",
        "plt.show()"
      ],
      "metadata": {
        "colab": {
          "base_uri": "https://localhost:8080/",
          "height": 265
        },
        "id": "LreDGvnNddMB",
        "outputId": "6c200364-3971-418a-ef3e-59b9273cf521"
      },
      "execution_count": 16,
      "outputs": [
        {
          "output_type": "display_data",
          "data": {
            "text/plain": [
              "<Figure size 432x288 with 1 Axes>"
            ],
            "image/png": "[encoded data removed]"
          },
          "metadata": {
            "needs_background": "light"
          }
        }
      ]
    },
    {
      "cell_type": "markdown",
      "metadata": {
        "id": "eolanmDoxSED"
      },
      "source": [
        "### Part 2 - *Training logistic regression classifier using the first 2 principal components*. Using a cross-validation procedure (check https://scikit-learn.org/stable/modules/cross_validation.html), select the best C parameter for the logistic regression with the first two principal components. Repeat the same procedure for the dataset with all the original features. Compare the results in terms of accuracy and confusion matrix. Present the conclusions."
      ]
    },
    {
      "cell_type": "markdown",
      "source": [
        "**Using the dataset that had the dimensional reduction applied.**"
      ],
      "metadata": {
        "id": "HOKOl4L7keK8"
      }
    },
    {
      "cell_type": "code",
      "source": [
        "from sklearn.linear_model import LogisticRegression\n",
        "from sklearn.model_selection import cross_validate\n",
        "from sklearn.model_selection import GridSearchCV\n",
        "\n",
        "param_dist = {\"C\": [1.0, 5.0, 10.0, 50.0, 150.0, 200.0, 500.0, 1000.0]}\n",
        "lgr_model = LogisticRegression()\n",
        "lgr_grid = GridSearchCV(estimator=lgr_model, param_grid=param_dist, cv=10, n_jobs=3)\n",
        "lgr_grid.fit(X_train_pca, y_train)\n",
        "print(\"Best Parameters using grid search\")\n",
        "print(lgr_grid.best_params_)"
      ],
      "metadata": {
        "colab": {
          "base_uri": "https://localhost:8080/"
        },
        "id": "tycbczu1en6F",
        "outputId": "416be289-ee57-4117-fb81-811ea87796e5"
      },
      "execution_count": 20,
      "outputs": [
        {
          "output_type": "stream",
          "name": "stdout",
          "text": [
            "Best Parameters using grid search\n",
            "{'C': 1.0}\n"
          ]
        }
      ]
    },
    {
      "cell_type": "code",
      "source": [
        "lgr_model = LogisticRegression(C=1.0)\n",
        "\n",
        "results = cross_validate(lgr_model, X_train_pca, y_train, cv=10, scoring=[\"accuracy\"], return_train_score=True, return_estimator=True)\n",
        "\n",
        "print(f'Accuracy - train: {results[\"train_accuracy\"].mean()}, | Validation: {results[\"test_accuracy\"].mean()}')"
      ],
      "metadata": {
        "colab": {
          "base_uri": "https://localhost:8080/"
        },
        "id": "JjXugBlbgO92",
        "outputId": "76500460-3b50-478d-8621-fe0e07266aab"
      },
      "execution_count": 27,
      "outputs": [
        {
          "output_type": "stream",
          "name": "stdout",
          "text": [
            "Accuracy - train: 0.9838722651222651, | Validation: 0.9839743589743589\n"
          ]
        }
      ]
    },
    {
      "cell_type": "code",
      "source": [
        "results"
      ],
      "metadata": {
        "colab": {
          "base_uri": "https://localhost:8080/"
        },
        "id": "HNhuO9whiZwW",
        "outputId": "881ee9d1-00c0-4151-c65a-14b3b57cf617"
      },
      "execution_count": 29,
      "outputs": [
        {
          "output_type": "execute_result",
          "data": {
            "text/plain": [
              "{'fit_time': array([0.01441908, 0.0085454 , 0.00892663, 0.0065856 , 0.00627708,\n",
              "        0.00587463, 0.00729632, 0.00841069, 0.0065558 , 0.00620079]),\n",
              " 'score_time': array([0.00052094, 0.00078511, 0.00057983, 0.00051618, 0.00045538,\n",
              "        0.00048542, 0.0004642 , 0.00053144, 0.00050497, 0.00046921]),\n",
              " 'estimator': [LogisticRegression(),\n",
              "  LogisticRegression(),\n",
              "  LogisticRegression(),\n",
              "  LogisticRegression(),\n",
              "  LogisticRegression(),\n",
              "  LogisticRegression(),\n",
              "  LogisticRegression(),\n",
              "  LogisticRegression(),\n",
              "  LogisticRegression(),\n",
              "  LogisticRegression()],\n",
              " 'test_accuracy': array([1.        , 1.        , 0.92307692, 1.        , 1.        ,\n",
              "        0.91666667, 1.        , 1.        , 1.        , 1.        ]),\n",
              " 'train_accuracy': array([0.98198198, 0.98198198, 0.99099099, 0.98198198, 0.98214286,\n",
              "        0.99107143, 0.98214286, 0.98214286, 0.98214286, 0.98214286])}"
            ]
          },
          "metadata": {},
          "execution_count": 29
        }
      ]
    },
    {
      "cell_type": "code",
      "source": [
        "from sklearn.metrics import accuracy_score\n",
        "pred = results[\"estimator\"][0].predict(X_test_pca)\n",
        "print(f\"Test acc: {round(accuracy_score(y_test, pred)*100, 2)}%\")"
      ],
      "metadata": {
        "colab": {
          "base_uri": "https://localhost:8080/"
        },
        "id": "Lu98RdishhHm",
        "outputId": "187c3425-b414-494f-9d2f-ac6255d7ccb8"
      },
      "execution_count": 37,
      "outputs": [
        {
          "output_type": "stream",
          "name": "stdout",
          "text": [
            "Test acc: 92.59%\n"
          ]
        }
      ]
    },
    {
      "cell_type": "code",
      "source": [
        "from sklearn.metrics import confusion_matrix, ConfusionMatrixDisplay\n",
        "\n",
        "cm = confusion_matrix(y_test, pred, labels=results[\"estimator\"][0].classes_)\n",
        "disp = ConfusionMatrixDisplay(confusion_matrix=cm,\n",
        "                              display_labels=results[\"estimator\"][0].classes_,)\n",
        "disp.plot()\n",
        "\n",
        "plt.show()"
      ],
      "metadata": {
        "colab": {
          "base_uri": "https://localhost:8080/",
          "height": 283
        },
        "id": "3gKPMIUbj2Wx",
        "outputId": "26a9fb0e-9468-43cd-87fc-d0ec152b1026"
      },
      "execution_count": 45,
      "outputs": [
        {
          "output_type": "display_data",
          "data": {
            "text/plain": [
              "<Figure size 432x288 with 2 Axes>"
            ],
            "image/png": "[encoded data removed]"
          },
          "metadata": {
            "needs_background": "light"
          }
        }
      ]
    },
    {
      "cell_type": "markdown",
      "source": [
        "**Using the dataset that not had the dimensional reduction applied.**"
      ],
      "metadata": {
        "id": "bvoQiqLvlAgC"
      }
    },
    {
      "cell_type": "code",
      "source": [
        "from sklearn.linear_model import LogisticRegression\n",
        "from sklearn.model_selection import cross_validate\n",
        "from sklearn.model_selection import GridSearchCV\n",
        "import warnings\n",
        "\n",
        "warnings.filterwarnings(action=\"ignore\")\n",
        "\n",
        "param_dist = {\"C\": [1.0, 5.0, 10.0, 50.0, 150.0, 200.0, 500.0, 1000.0]}\n",
        "lgr_model = LogisticRegression(random_state=42)\n",
        "lgr_grid = GridSearchCV(estimator=lgr_model, param_grid=param_dist, cv=10, n_jobs=3)\n",
        "lgr_grid.fit(X_train, y_train)\n",
        "print(\"Best Parameters using grid search\")\n",
        "print(lgr_grid.best_params_)"
      ],
      "metadata": {
        "colab": {
          "base_uri": "https://localhost:8080/"
        },
        "outputId": "4ad9f30e-64cb-45cc-93f7-156fe4943217",
        "id": "HlCHCm6GlIQZ"
      },
      "execution_count": 67,
      "outputs": [
        {
          "output_type": "stream",
          "name": "stdout",
          "text": [
            "Best Parameters using grid search\n",
            "{'C': 1000.0}\n"
          ]
        }
      ]
    },
    {
      "cell_type": "code",
      "source": [
        "lgr_model = LogisticRegression(C=1.0)\n",
        "\n",
        "results = cross_validate(lgr_model, X_train, y_train, cv=10, scoring=[\"accuracy\"], return_train_score=True, return_estimator=True)\n",
        "\n",
        "print(f'Accuracy - train: {results[\"train_accuracy\"].mean()}, | Validation: {results[\"test_accuracy\"].mean()}')"
      ],
      "metadata": {
        "colab": {
          "base_uri": "https://localhost:8080/"
        },
        "outputId": "81c2c144-08ac-4b24-fe81-938682d393df",
        "id": "Kz-cXK7SlIQa"
      },
      "execution_count": 68,
      "outputs": [
        {
          "output_type": "stream",
          "name": "stdout",
          "text": [
            "Accuracy - train: 0.9704231016731016, | Validation: 0.9346153846153845\n"
          ]
        }
      ]
    },
    {
      "cell_type": "code",
      "source": [
        "results"
      ],
      "metadata": {
        "colab": {
          "base_uri": "https://localhost:8080/"
        },
        "outputId": "95a17fe0-2c3b-4541-9749-b43b27e5d287",
        "id": "NcBYkcFQlIQa"
      },
      "execution_count": 69,
      "outputs": [
        {
          "output_type": "execute_result",
          "data": {
            "text/plain": [
              "{'fit_time': array([0.06153107, 0.07877612, 0.05494118, 0.02936268, 0.04194236,\n",
              "        0.03603721, 0.02964401, 0.03336787, 0.03079128, 0.0306251 ]),\n",
              " 'score_time': array([0.00076079, 0.0007062 , 0.00051808, 0.00052166, 0.00066757,\n",
              "        0.00058389, 0.00051069, 0.00095153, 0.00051117, 0.00049615]),\n",
              " 'estimator': [LogisticRegression(),\n",
              "  LogisticRegression(),\n",
              "  LogisticRegression(),\n",
              "  LogisticRegression(),\n",
              "  LogisticRegression(),\n",
              "  LogisticRegression(),\n",
              "  LogisticRegression(),\n",
              "  LogisticRegression(),\n",
              "  LogisticRegression(),\n",
              "  LogisticRegression()],\n",
              " 'test_accuracy': array([1.        , 1.        , 0.84615385, 1.        , 0.91666667,\n",
              "        0.83333333, 0.83333333, 1.        , 1.        , 0.91666667]),\n",
              " 'train_accuracy': array([0.97297297, 0.96396396, 0.97297297, 0.96396396, 0.97321429,\n",
              "        0.98214286, 0.96428571, 0.97321429, 0.96428571, 0.97321429])}"
            ]
          },
          "metadata": {},
          "execution_count": 69
        }
      ]
    },
    {
      "cell_type": "code",
      "source": [
        "from sklearn.metrics import accuracy_score\n",
        "pred = results[\"estimator\"][0].predict(X_test)\n",
        "print(f\"Test acc: {round(accuracy_score(y_test, pred)*100, 2)}%\")"
      ],
      "metadata": {
        "colab": {
          "base_uri": "https://localhost:8080/"
        },
        "outputId": "396850aa-5854-4ac6-923c-6f98b085c033",
        "id": "j_M8Qh3PlIQb"
      },
      "execution_count": 70,
      "outputs": [
        {
          "output_type": "stream",
          "name": "stdout",
          "text": [
            "Test acc: 96.3%\n"
          ]
        }
      ]
    },
    {
      "cell_type": "code",
      "source": [
        "from sklearn.metrics import confusion_matrix, ConfusionMatrixDisplay\n",
        "\n",
        "cm = confusion_matrix(y_test, pred, labels=results[\"estimator\"][0].classes_)\n",
        "disp = ConfusionMatrixDisplay(confusion_matrix=cm,\n",
        "                              display_labels=results[\"estimator\"][0].classes_,)\n",
        "disp.plot()\n",
        "\n",
        "plt.show()"
      ],
      "metadata": {
        "colab": {
          "base_uri": "https://localhost:8080/",
          "height": 283
        },
        "outputId": "55eda971-ecf0-4333-dc4b-e1c69309eb8c",
        "id": "cJctHOqGlIQb"
      },
      "execution_count": 71,
      "outputs": [
        {
          "output_type": "display_data",
          "data": {
            "text/plain": [
              "<Figure size 432x288 with 2 Axes>"
            ],
            "image/png": "[encoded data removed]"
          },
          "metadata": {
            "needs_background": "light"
          }
        }
      ]
    },
    {
      "cell_type": "markdown",
      "source": [
        "**In other words, if you use the original features, basically the model got a better generalization of applied PCA, because the features of the dataset has a strong correlation and causality with the targets, in summary this make the decision boundary more confident.**\n",
        "\n",
        "\n",
        "**But if you look in the cross validation approach, the model used as pca input features has a better generalization compared with original features**"
      ],
      "metadata": {
        "id": "SK-RAmJNmfNX"
      }
    }
  ]
}